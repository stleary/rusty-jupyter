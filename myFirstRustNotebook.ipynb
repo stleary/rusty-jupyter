{
 "cells": [
  {
   "cell_type": "code",
   "execution_count": 35,
   "metadata": {},
   "outputs": [
    {
     "ename": "Error",
     "evalue": "unresolved import `futures`",
     "output_type": "error",
     "traceback": [
      "use of undeclared crate or module `futures`",
      "unresolved import `futures`"
     ]
    },
    {
     "ename": "Error",
     "evalue": "unresolved import `futures`",
     "output_type": "error",
     "traceback": [
      "use of undeclared crate or module `futures`",
      "unresolved import `futures`"
     ]
    }
   ],
   "source": [
    "use core::fmt::Debug\n",
    "\n",
    "use futures::{Stream, StreamExt};\n",
    "\n",
    "\n",
    "trait SayHello {\n",
    "    fn hello();\n",
    "}\n",
    "\n",
    "impl SayHello for i32 {\n",
    "    fn hello() {\n",
    "        println!(\"Hi\");\n",
    "    }\n",
    "}\n",
    "\n",
    "// async fn run_stream<S>(stream: S)\n",
    "//     where S: Stream\n",
    "// {\n",
    "//     stream.for_each(|item| async {\n",
    "        \n",
    "//     }).await;\n",
    "// }\n",
    "\n",
    "fn main() {\n",
    "    println!(\"Hello, world!\");\n",
    "    println!(\"the value is {}\", to_string(5));\n",
    "}\n",
    "\n",
    "fn to_string<T>(thing: T) -> String\n",
    "where T: ToString, //  + Send + Sync,  // marker traits\n",
    "         T: Debug,\n",
    "         T: SayHello\n",
    "{\n",
    "    // thing.hello();\n",
    "    // SayHello::hello();\n",
    "    thing.to_string()\n",
    "}"
   ]
  },
  {
   "cell_type": "code",
   "execution_count": 33,
   "metadata": {},
   "outputs": [
    {
     "name": "stdout",
     "output_type": "stream",
     "text": [
      "Hello, world!\n",
      "the value is 5\n"
     ]
    }
   ],
   "source": [
    "main();\n"
   ]
  },
  {
   "cell_type": "code",
   "execution_count": null,
   "metadata": {},
   "outputs": [],
   "source": []
  }
 ],
 "metadata": {
  "kernelspec": {
   "display_name": "Rust",
   "language": "rust",
   "name": "rust"
  },
  "language_info": {
   "codemirror_mode": "rust",
   "file_extension": ".rs",
   "mimetype": "text/rust",
   "name": "Rust",
   "pygment_lexer": "rust",
   "version": ""
  }
 },
 "nbformat": 4,
 "nbformat_minor": 4
}
